{
 "cells": [
  {
   "cell_type": "code",
   "execution_count": 1,
   "id": "29aed0e4",
   "metadata": {},
   "outputs": [],
   "source": [
    "from keras.datasets import cifar10\n",
    "import numpy as np"
   ]
  },
  {
   "cell_type": "code",
   "execution_count": 2,
   "id": "59919dce",
   "metadata": {},
   "outputs": [
    {
     "name": "stdout",
     "output_type": "stream",
     "text": [
      "Downloading data from https://www.cs.toronto.edu/~kriz/cifar-10-python.tar.gz\n",
      "170498071/170498071 [==============================] - 104s 1us/step\n"
     ]
    }
   ],
   "source": [
    "(x_train, y_train), (x_test, y_test) = cifar10.load_data()"
   ]
  },
  {
   "cell_type": "code",
   "execution_count": 3,
   "id": "dfadda36",
   "metadata": {},
   "outputs": [],
   "source": [
    "import matplotlib.pyplot as plt"
   ]
  },
  {
   "cell_type": "code",
   "execution_count": 4,
   "id": "4f0666fb",
   "metadata": {},
   "outputs": [],
   "source": [
    "from keras.utils import to_categorical\n",
    "y_train=to_categorical(y_train)\n",
    "y_test=to_categorical(y_test)"
   ]
  },
  {
   "cell_type": "code",
   "execution_count": 5,
   "id": "ae7cc995",
   "metadata": {},
   "outputs": [
    {
     "data": {
      "text/plain": [
       "((50000, 32, 32, 3), (10000, 32, 32, 3), (50000, 10), (10000, 10))"
      ]
     },
     "execution_count": 5,
     "metadata": {},
     "output_type": "execute_result"
    }
   ],
   "source": [
    "x_train=x_train.reshape(-1,32,32,3)\n",
    "x_test=x_test.reshape(-1,32,32,3)\n",
    "\n",
    "x_train.shape,x_test.shape,y_train.shape,y_test.shape"
   ]
  },
  {
   "cell_type": "code",
   "execution_count": 6,
   "id": "5906d97f",
   "metadata": {},
   "outputs": [],
   "source": [
    "x_train=x_train/255\n",
    "x_test=x_test/255"
   ]
  },
  {
   "cell_type": "code",
   "execution_count": 7,
   "id": "e8c79622",
   "metadata": {},
   "outputs": [],
   "source": [
    "from keras.models import Model\n",
    "from keras.layers import Input,Conv2D,MaxPooling2D,Flatten,Dense,Dropout"
   ]
  },
  {
   "cell_type": "code",
   "execution_count": 9,
   "id": "ec894adf",
   "metadata": {},
   "outputs": [],
   "source": [
    "inputs=Input(shape=(32,32,3))\n",
    "\n",
    "c1=Conv2D(64,(3,3),padding=\"same\",activation=\"relu\")(inputs)\n",
    "m1=MaxPooling2D(padding=\"same\")(c1)\n",
    "\n",
    "drop1=Dropout(0.3)(m1)\n",
    "\n",
    "c2=Conv2D(64,(3,3),padding=\"same\",activation=\"relu\")(drop1)\n",
    "m2=MaxPooling2D(padding=\"same\")(c2)\n",
    "\n",
    "drop2=Dropout(0.3)(m2)\n",
    "\n",
    "c3=Conv2D(64,(5,5),padding=\"same\",activation=\"relu\")(drop2)\n",
    "m3=MaxPooling2D(padding=\"same\")(c3)\n",
    "\n",
    "\n",
    "drop2=Dropout(0.3)(m3)\n",
    "\n",
    "conv_out=Flatten()(drop2)\n",
    "\n",
    "d1=Dense(512,activation=\"relu\")(conv_out)\n",
    "\n",
    "out=Dense(10,activation=\"softmax\")(d1)"
   ]
  },
  {
   "cell_type": "code",
   "execution_count": 10,
   "id": "09c0c92c",
   "metadata": {},
   "outputs": [],
   "source": [
    "model=Model(inputs=inputs,outputs=out)\n",
    "model.compile(optimizer=\"adam\",loss=\"categorical_crossentropy\",metrics=[\"accuracy\"])"
   ]
  },
  {
   "cell_type": "code",
   "execution_count": 11,
   "id": "99c6fc6e",
   "metadata": {},
   "outputs": [
    {
     "name": "stdout",
     "output_type": "stream",
     "text": [
      "Epoch 1/20\n",
      "782/782 [==============================] - 108s 136ms/step - loss: 1.5621 - accuracy: 0.4239 - val_loss: 1.2273 - val_accuracy: 0.5599\n",
      "Epoch 2/20\n",
      "782/782 [==============================] - 111s 142ms/step - loss: 1.2048 - accuracy: 0.5678 - val_loss: 1.0472 - val_accuracy: 0.6392\n",
      "Epoch 3/20\n",
      "782/782 [==============================] - 124s 159ms/step - loss: 1.0455 - accuracy: 0.6258 - val_loss: 0.9127 - val_accuracy: 0.6784\n",
      "Epoch 4/20\n",
      "782/782 [==============================] - 132s 168ms/step - loss: 0.9506 - accuracy: 0.6631 - val_loss: 0.8998 - val_accuracy: 0.6764\n",
      "Epoch 5/20\n",
      "782/782 [==============================] - 131s 167ms/step - loss: 0.8816 - accuracy: 0.6870 - val_loss: 0.8143 - val_accuracy: 0.7140\n",
      "Epoch 6/20\n",
      "782/782 [==============================] - 122s 156ms/step - loss: 0.8290 - accuracy: 0.7064 - val_loss: 0.8046 - val_accuracy: 0.7210\n",
      "Epoch 7/20\n",
      "782/782 [==============================] - 147s 188ms/step - loss: 0.7812 - accuracy: 0.7225 - val_loss: 0.7790 - val_accuracy: 0.7283\n",
      "Epoch 8/20\n",
      "782/782 [==============================] - 138s 176ms/step - loss: 0.7482 - accuracy: 0.7360 - val_loss: 0.7275 - val_accuracy: 0.7464\n",
      "Epoch 9/20\n",
      "782/782 [==============================] - 130s 166ms/step - loss: 0.7057 - accuracy: 0.7479 - val_loss: 0.7447 - val_accuracy: 0.7426\n",
      "Epoch 10/20\n",
      "782/782 [==============================] - 113s 145ms/step - loss: 0.6859 - accuracy: 0.7579 - val_loss: 0.7090 - val_accuracy: 0.7538\n",
      "Epoch 11/20\n",
      "782/782 [==============================] - 113s 144ms/step - loss: 0.6545 - accuracy: 0.7679 - val_loss: 0.6934 - val_accuracy: 0.7612\n",
      "Epoch 12/20\n",
      "782/782 [==============================] - 122s 156ms/step - loss: 0.6342 - accuracy: 0.7739 - val_loss: 0.6748 - val_accuracy: 0.7642\n",
      "Epoch 13/20\n",
      "782/782 [==============================] - 117s 150ms/step - loss: 0.6114 - accuracy: 0.7810 - val_loss: 0.6845 - val_accuracy: 0.7626\n",
      "Epoch 14/20\n",
      "782/782 [==============================] - 101s 129ms/step - loss: 0.5962 - accuracy: 0.7897 - val_loss: 0.6904 - val_accuracy: 0.7602\n",
      "Epoch 15/20\n",
      "782/782 [==============================] - 110s 141ms/step - loss: 0.5719 - accuracy: 0.7963 - val_loss: 0.6550 - val_accuracy: 0.7747\n",
      "Epoch 16/20\n",
      "782/782 [==============================] - 109s 139ms/step - loss: 0.5579 - accuracy: 0.8011 - val_loss: 0.6680 - val_accuracy: 0.7714\n",
      "Epoch 17/20\n",
      "782/782 [==============================] - 107s 137ms/step - loss: 0.5465 - accuracy: 0.8073 - val_loss: 0.6912 - val_accuracy: 0.7642\n",
      "Epoch 18/20\n",
      "782/782 [==============================] - 113s 144ms/step - loss: 0.5344 - accuracy: 0.8111 - val_loss: 0.7269 - val_accuracy: 0.7561\n",
      "Epoch 19/20\n",
      "782/782 [==============================] - 98s 125ms/step - loss: 0.5249 - accuracy: 0.8138 - val_loss: 0.6715 - val_accuracy: 0.7749\n",
      "Epoch 20/20\n",
      "782/782 [==============================] - 117s 150ms/step - loss: 0.4994 - accuracy: 0.8225 - val_loss: 0.6613 - val_accuracy: 0.7794\n"
     ]
    },
    {
     "data": {
      "text/plain": [
       "<keras.callbacks.History at 0x1d4c1e5a640>"
      ]
     },
     "execution_count": 11,
     "metadata": {},
     "output_type": "execute_result"
    }
   ],
   "source": [
    "model.fit(x_train,y_train,batch_size=64,epochs=20,validation_data=(x_test,y_test))"
   ]
  },
  {
   "cell_type": "code",
   "execution_count": 12,
   "id": "dcb5e457",
   "metadata": {},
   "outputs": [
    {
     "name": "stdout",
     "output_type": "stream",
     "text": [
      "1563/1563 [==============================] - 38s 24ms/step - loss: 0.2625 - accuracy: 0.9268\n",
      "313/313 [==============================] - 7s 21ms/step - loss: 0.6613 - accuracy: 0.7794\n"
     ]
    },
    {
     "data": {
      "text/plain": [
       "([0.26249969005584717, 0.9267799854278564],\n",
       " [0.6613260507583618, 0.7793999910354614])"
      ]
     },
     "execution_count": 12,
     "metadata": {},
     "output_type": "execute_result"
    }
   ],
   "source": [
    "model.evaluate(x_train,y_train),model.evaluate(x_test,y_test)"
   ]
  }
 ],
 "metadata": {
  "kernelspec": {
   "display_name": "Python 3 (ipykernel)",
   "language": "python",
   "name": "python3"
  },
  "language_info": {
   "codemirror_mode": {
    "name": "ipython",
    "version": 3
   },
   "file_extension": ".py",
   "mimetype": "text/x-python",
   "name": "python",
   "nbconvert_exporter": "python",
   "pygments_lexer": "ipython3",
   "version": "3.9.7"
  }
 },
 "nbformat": 4,
 "nbformat_minor": 5
}
